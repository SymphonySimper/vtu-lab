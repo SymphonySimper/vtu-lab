{
 "cells": [
  {
   "cell_type": "code",
   "execution_count": 1,
   "metadata": {},
   "outputs": [
    {
     "name": "stdout",
     "output_type": "stream",
     "text": [
      "Prediction: 2, Actual: 2, Correct\n",
      "Prediction: 1, Actual: 1, Correct\n",
      "Prediction: 0, Actual: 0, Correct\n",
      "Prediction: 2, Actual: 2, Correct\n",
      "Prediction: 0, Actual: 0, Correct\n",
      "Prediction: 2, Actual: 2, Correct\n",
      "Prediction: 0, Actual: 0, Correct\n",
      "Prediction: 1, Actual: 1, Correct\n",
      "Prediction: 1, Actual: 1, Correct\n",
      "Prediction: 1, Actual: 1, Correct\n",
      "Prediction: 2, Actual: 2, Correct\n",
      "Prediction: 1, Actual: 1, Correct\n",
      "Prediction: 1, Actual: 1, Correct\n",
      "Prediction: 1, Actual: 1, Correct\n",
      "Prediction: 2, Actual: 1, Wrong\n",
      "Prediction: 0, Actual: 0, Correct\n",
      "Prediction: 1, Actual: 1, Correct\n",
      "Prediction: 1, Actual: 1, Correct\n",
      "Prediction: 0, Actual: 0, Correct\n",
      "Prediction: 0, Actual: 0, Correct\n",
      "Prediction: 2, Actual: 2, Correct\n",
      "Prediction: 1, Actual: 1, Correct\n",
      "Prediction: 0, Actual: 0, Correct\n",
      "Prediction: 0, Actual: 0, Correct\n",
      "Prediction: 2, Actual: 2, Correct\n",
      "Prediction: 0, Actual: 0, Correct\n",
      "Prediction: 0, Actual: 0, Correct\n",
      "Prediction: 1, Actual: 1, Correct\n",
      "Prediction: 1, Actual: 1, Correct\n",
      "Prediction: 0, Actual: 0, Correct\n"
     ]
    }
   ],
   "source": [
    "from sklearn.datasets import load_iris\n",
    "from sklearn.model_selection import train_test_split\n",
    "from sklearn.neighbors import KNeighborsClassifier\n",
    "\n",
    "# Load the iris dataset\n",
    "X, y = load_iris(return_X_y=True)\n",
    "\n",
    "# Split the data into training and test sets\n",
    "X_train, X_test, y_train, y_test = train_test_split(X, y, test_size=0.2, random_state=0)\n",
    "\n",
    "# Set the value of k\n",
    "k = 5\n",
    "\n",
    "# Create a k-NN classifier\n",
    "knn = KNeighborsClassifier(k)\n",
    "\n",
    "# Train the classifier on the training data\n",
    "knn.fit(X_train, y_train)\n",
    "\n",
    "# Test the classifier on the test data\n",
    "y_pred = knn.predict(X_test)\n",
    "\n",
    "# Print the predictions\n",
    "for i in range(len(y_test)):\n",
    "    res = 'Wrong'\n",
    "    if y_pred[i] == y_test[i]:\n",
    "        res = 'Correct'\n",
    "    print(f'Prediction: {y_pred[i]}, Actual: {y_test[i]}, {res}')\n"
   ]
  }
 ],
 "metadata": {
  "kernelspec": {
   "display_name": "tf",
   "language": "python",
   "name": "python3"
  },
  "language_info": {
   "codemirror_mode": {
    "name": "ipython",
    "version": 3
   },
   "file_extension": ".py",
   "mimetype": "text/x-python",
   "name": "python",
   "nbconvert_exporter": "python",
   "pygments_lexer": "ipython3",
   "version": "3.9.15"
  },
  "orig_nbformat": 4,
  "vscode": {
   "interpreter": {
    "hash": "c5d44757740453387aaf44c764f629307fd0eb0266c96e5c45126dc8fc9b9ef1"
   }
  }
 },
 "nbformat": 4,
 "nbformat_minor": 2
}
